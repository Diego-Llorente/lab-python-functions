{
 "cells": [
  {
   "cell_type": "markdown",
   "id": "25d7736c-ba17-4aff-b6bb-66eba20fbf4e",
   "metadata": {},
   "source": [
    "# Lab | Functions"
   ]
  },
  {
   "cell_type": "markdown",
   "id": "0c581062-8967-4d93-b06e-62833222f930",
   "metadata": {
    "tags": []
   },
   "source": [
    "## Exercise: Managing Customer Orders with Functions\n",
    "\n",
    "In the previous exercise, you improved the code for managing customer orders by using loops and flow control. Now, let's take it a step further and refactor the code by introducing functions.\n",
    "\n",
    "Follow the steps below to complete the exercise:\n",
    "\n",
    "1. Define a function named `initialize_inventory` that takes `products` as a parameter. Inside the function, implement the code for initializing the inventory dictionary using a loop and user input.\n",
    "\n",
    "2. Define a function named `get_customer_orders` that takes no parameters. Inside the function, implement the code for prompting the user to enter the product names using a loop. The function should return the `customer_orders` set.\n",
    "\n",
    "3. Define a function named `update_inventory` that takes `customer_orders` and `inventory` as parameters. Inside the function, implement the code for updating the inventory dictionary based on the customer orders.\n",
    "\n",
    "4. Define a function named `calculate_order_statistics` that takes `customer_orders` and `products` as parameters. Inside the function, implement the code for calculating the order statistics (total products ordered, and percentage of unique products ordered). The function should return these values.\n",
    "\n",
    "5. Define a function named `print_order_statistics` that takes `order_statistics` as a parameter. Inside the function, implement the code for printing the order statistics.\n",
    "\n",
    "6. Define a function named `print_updated_inventory` that takes `inventory` as a parameter. Inside the function, implement the code for printing the updated inventory.\n",
    "\n",
    "7. Call the functions in the appropriate sequence to execute the program and manage customer orders.\n",
    "\n",
    "Hints for functions:\n",
    "\n",
    "- Consider the input parameters required for each function and their return values.\n",
    "- Utilize function parameters and return values to transfer data between functions.\n",
    "- Test your functions individually to ensure they work correctly.\n",
    "\n",
    "\n"
   ]
  },
  {
   "cell_type": "code",
   "execution_count": 1,
   "id": "7aca71d2",
   "metadata": {},
   "outputs": [],
   "source": [
    "def initialize_inventory(products):\n",
    "    inventory = {}\n",
    "    for product in products:\n",
    "        quantity = int(input(f\"Please enter the available quantity of {product}: \"))\n",
    "        inventory[product] = quantity\n",
    "    \n",
    "    return inventory"
   ]
  },
  {
   "cell_type": "code",
   "execution_count": 2,
   "id": "a02e5b2f",
   "metadata": {
    "scrolled": true
   },
   "outputs": [
    {
     "name": "stdout",
     "output_type": "stream",
     "text": [
      "Please enter the available quantity of t-shirt: 10\n",
      "Please enter the available quantity of mug: 10\n",
      "Please enter the available quantity of hat: 10\n",
      "Please enter the available quantity of book: 10\n",
      "Please enter the available quantity of keychain: 10\n"
     ]
    }
   ],
   "source": [
    "initial_inventory = initialize_inventory(products = [\"t-shirt\", \"mug\", \"hat\", \"book\", \"keychain\"])"
   ]
  },
  {
   "cell_type": "code",
   "execution_count": 3,
   "id": "251f2017",
   "metadata": {},
   "outputs": [
    {
     "data": {
      "text/plain": [
       "{'t-shirt': 10, 'mug': 10, 'hat': 10, 'book': 10, 'keychain': 10}"
      ]
     },
     "execution_count": 3,
     "metadata": {},
     "output_type": "execute_result"
    }
   ],
   "source": [
    "initial_inventory"
   ]
  },
  {
   "cell_type": "code",
   "execution_count": 4,
   "id": "b61162ef",
   "metadata": {},
   "outputs": [],
   "source": [
    "def get_customer_orders():\n",
    "    add_order = True\n",
    "    \n",
    "    customer_orders = set()\n",
    "    \n",
    "    customer_order = input(\"Please enter the product you want to order: \")\n",
    "\n",
    "    customer_orders.add(customer_order)\n",
    "    \n",
    "    while add_order == True:\n",
    "    \n",
    "            keep_going = input(\"Would you like to add another product? yes/no:\" )\n",
    "            if keep_going == \"yes\":\n",
    "                customer_order = input(f\"Please enter the product's name: \")\n",
    "                customer_orders.add(customer_order)\n",
    "            else:\n",
    "                add_order = False\n",
    "        \n",
    "    return customer_orders"
   ]
  },
  {
   "cell_type": "code",
   "execution_count": 5,
   "id": "2b6ca7fa",
   "metadata": {},
   "outputs": [
    {
     "name": "stdout",
     "output_type": "stream",
     "text": [
      "Please enter the product you want to order: t-shirt\n",
      "Would you like to add another product? yes/no:yes\n",
      "Please enter the product's name: mug\n",
      "Would you like to add another product? yes/no:yes\n",
      "Please enter the product's name: keychain\n",
      "Would you like to add another product? yes/no:yes\n",
      "Please enter the product's name: book\n",
      "Would you like to add another product? yes/no:no\n"
     ]
    }
   ],
   "source": [
    "items_ordered = get_customer_orders()"
   ]
  },
  {
   "cell_type": "code",
   "execution_count": 6,
   "id": "15722463",
   "metadata": {},
   "outputs": [
    {
     "data": {
      "text/plain": [
       "{'book', 'keychain', 'mug', 't-shirt'}"
      ]
     },
     "execution_count": 6,
     "metadata": {},
     "output_type": "execute_result"
    }
   ],
   "source": [
    "items_ordered"
   ]
  },
  {
   "cell_type": "code",
   "execution_count": 7,
   "id": "a33c751c",
   "metadata": {},
   "outputs": [],
   "source": [
    "def update_inventory(customer_orders, inventory):\n",
    "    for product in customer_orders:\n",
    "        inventory[product] -=1\n",
    "    return inventory"
   ]
  },
  {
   "cell_type": "code",
   "execution_count": 8,
   "id": "d8d028cd",
   "metadata": {},
   "outputs": [],
   "source": [
    "updated_inventory = update_inventory(items_ordered, initial_inventory)"
   ]
  },
  {
   "cell_type": "code",
   "execution_count": 9,
   "id": "0ce39b8a",
   "metadata": {},
   "outputs": [
    {
     "data": {
      "text/plain": [
       "{'t-shirt': 9, 'mug': 9, 'hat': 10, 'book': 9, 'keychain': 9}"
      ]
     },
     "execution_count": 9,
     "metadata": {},
     "output_type": "execute_result"
    }
   ],
   "source": [
    "updated_inventory"
   ]
  },
  {
   "cell_type": "code",
   "execution_count": 10,
   "id": "3ff52dd5",
   "metadata": {},
   "outputs": [],
   "source": [
    "def calculate_order_statistics(customer_orders, products):\n",
    "    total_products_ordered = len(customer_orders)\n",
    "    percentage_ordered = (total_products_ordered/len(products))*100\n",
    "    order_status = (total_products_ordered, percentage_ordered)\n",
    "    \n",
    "    return [total_products_ordered, percentage_ordered] \n",
    "    \n",
    "   #print(total_products_ordered)\n",
    "   #print(len(products))\n",
    "   #print(percentage_ordered)\n",
    "   #print(order_status)"
   ]
  },
  {
   "cell_type": "code",
   "execution_count": 11,
   "id": "c6276cea",
   "metadata": {},
   "outputs": [
    {
     "data": {
      "text/plain": [
       "[4, 80.0]"
      ]
     },
     "execution_count": 11,
     "metadata": {},
     "output_type": "execute_result"
    }
   ],
   "source": [
    "calculate_order_statistics(items_ordered, initial_inventory.keys())"
   ]
  },
  {
   "cell_type": "code",
   "execution_count": 12,
   "id": "b36e0a23",
   "metadata": {},
   "outputs": [],
   "source": [
    "statistics = calculate_order_statistics(items_ordered, initial_inventory.keys())"
   ]
  },
  {
   "cell_type": "code",
   "execution_count": 13,
   "id": "da74757a",
   "metadata": {},
   "outputs": [],
   "source": [
    "def print_order_statistics(order_statistics):\n",
    "    count = 1\n",
    "    for stat in order_statistics:\n",
    "        if count == 1:\n",
    "            print(f\"The total number of products ordered is: {stat}.\")\n",
    "            count += 1\n",
    "        else:\n",
    "            print(f\"The percentage or ordered products is: {stat}%.\")\n",
    "        "
   ]
  },
  {
   "cell_type": "code",
   "execution_count": 14,
   "id": "f2374ce7",
   "metadata": {},
   "outputs": [
    {
     "name": "stdout",
     "output_type": "stream",
     "text": [
      "The total number of products ordered is: 4.\n",
      "The percentage or ordered products is: 80.0%.\n"
     ]
    }
   ],
   "source": [
    "print_order_statistics(statistics)"
   ]
  },
  {
   "cell_type": "code",
   "execution_count": 15,
   "id": "6f0f4122",
   "metadata": {},
   "outputs": [],
   "source": [
    "def print_updated_inventory(inventory):\n",
    "    \n",
    "    for product, quantity in inventory.items():\n",
    "        print(f\"The product {product} has a stock of: {quantity}\")"
   ]
  },
  {
   "cell_type": "code",
   "execution_count": 16,
   "id": "774dd049",
   "metadata": {
    "scrolled": true
   },
   "outputs": [
    {
     "name": "stdout",
     "output_type": "stream",
     "text": [
      "The product t-shirt has a stock of: 9\n",
      "The product mug has a stock of: 9\n",
      "The product hat has a stock of: 10\n",
      "The product book has a stock of: 9\n",
      "The product keychain has a stock of: 9\n"
     ]
    }
   ],
   "source": [
    "print_updated_inventory(updated_inventory)"
   ]
  }
 ],
 "metadata": {
  "kernelspec": {
   "display_name": "Python 3 (ipykernel)",
   "language": "python",
   "name": "python3"
  },
  "language_info": {
   "codemirror_mode": {
    "name": "ipython",
    "version": 3
   },
   "file_extension": ".py",
   "mimetype": "text/x-python",
   "name": "python",
   "nbconvert_exporter": "python",
   "pygments_lexer": "ipython3",
   "version": "3.11.7"
  }
 },
 "nbformat": 4,
 "nbformat_minor": 5
}
